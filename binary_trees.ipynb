{
 "cells": [
  {
   "cell_type": "markdown",
   "metadata": {},
   "source": [
    "# Various Binary Tree Things"
   ]
  },
  {
   "cell_type": "code",
   "execution_count": 1,
   "metadata": {},
   "outputs": [],
   "source": [
    "from typing import List"
   ]
  },
  {
   "cell_type": "markdown",
   "metadata": {},
   "source": [
    "## Define Binary Tree structure"
   ]
  },
  {
   "cell_type": "code",
   "execution_count": 2,
   "metadata": {},
   "outputs": [],
   "source": [
    "class Tree():\n",
    "    def __init__(self, data):\n",
    "        self.data = data\n",
    "        self.left = None\n",
    "        self.right = None\n",
    "        \n",
    "    def add_left(self, data):\n",
    "        self.left = Tree(data)\n",
    "        \n",
    "    def add_right(self, data):\n",
    "        self.right = Tree(data)\n",
    "        \n",
    "root = Tree(1)\n",
    "root.add_left(2)\n",
    "root.add_right(3)\n",
    "root.left.add_left(4)\n",
    "root.left.add_right(5)\n",
    "\n",
    "tree2 = Tree(10)\n",
    "tree2.add_left(20)\n",
    "tree2.add_right(30)\n",
    "tree2.right.add_left(40)\n",
    "tree2.right.add_right(60)"
   ]
  },
  {
   "cell_type": "markdown",
   "metadata": {},
   "source": [
    "## Inorder traversal\n",
    "In order traversal first calls itself on left node, then prints root, then calls itself on right node\n",
    "\n",
    "e.g., if root looks like this:\n",
    "1\n",
    "1, 2L; 1,3R\n",
    "2, 4L:, 2, 5R\n",
    "\n",
    "Traversal should look like:\n",
    "4, 2, 5, 1, 3"
   ]
  },
  {
   "cell_type": "code",
   "execution_count": 18,
   "metadata": {},
   "outputs": [
    {
     "name": "stdout",
     "output_type": "stream",
     "text": [
      "Expected order: [4, 2, 5, 1, 3]\n",
      "Actual order: [4, 2, 5, 1, 3]\n",
      "Expected order: [20, 10, 40, 30, 60]\n",
      "Actual order: [20, 10, 40, 30, 60]\n"
     ]
    }
   ],
   "source": [
    "def inorder(tree: Tree, output:List=None) -> List:\n",
    "    if output is None:\n",
    "        output = []\n",
    "    if tree.left is not None:\n",
    "        inorder(tree.left, output)\n",
    "    output.append(tree.data)\n",
    "    if tree.right is not None:\n",
    "        inorder(tree.right, output)\n",
    "    return output\n",
    "\n",
    "def test_inorder():\n",
    "    order = inorder(root)\n",
    "    print(\"Expected order: [4, 2, 5, 1, 3]\")\n",
    "    print(\"Actual order: {}\".format(order))\n",
    "\n",
    "    order2 = inorder(tree2)\n",
    "    print(\"Expected order: [20, 10, 40, 30, 60]\")\n",
    "    print(\"Actual order: {}\".format(order2))\n",
    "    \n",
    "test_inorder()"
   ]
  },
  {
   "cell_type": "markdown",
   "metadata": {},
   "source": [
    "## Preorder traversal\n",
    "\n",
    "Much like inorder, except visits the root first"
   ]
  },
  {
   "cell_type": "code",
   "execution_count": 21,
   "metadata": {},
   "outputs": [
    {
     "name": "stdout",
     "output_type": "stream",
     "text": [
      "Expected order: [1, 2, 4, 5, 3]\n",
      "Actual order: [1, 2, 4, 5, 3]\n",
      "Expected order: [10, 20, 30, 40, 60]\n",
      "Actual order: [10, 20, 30, 40, 60]\n"
     ]
    }
   ],
   "source": [
    "def preorder(tree: Tree, output:List=None) -> List:\n",
    "    if output is None:\n",
    "        output = []\n",
    "    output.append(tree.data)\n",
    "    if tree.left is not None:\n",
    "        preorder(tree.left, output)\n",
    "    if tree.right is not None:\n",
    "        preorder(tree.right, output)\n",
    "    return output\n",
    "\n",
    "def test_preorder():\n",
    "    order = preorder(root)\n",
    "    print(\"Expected order: [1, 2, 4, 5, 3]\")\n",
    "    print(\"Actual order: {}\".format(order))\n",
    "\n",
    "    order2 = preorder(tree2)\n",
    "    print(\"Expected order: [10, 20, 30, 40, 60]\")\n",
    "    print(\"Actual order: {}\".format(order2))\n",
    "    \n",
    "test_preorder()    "
   ]
  },
  {
   "cell_type": "markdown",
   "metadata": {},
   "source": [
    "## Postorder traversal\n",
    "\n",
    "Like the first two, but visits the root last"
   ]
  },
  {
   "cell_type": "code",
   "execution_count": 22,
   "metadata": {},
   "outputs": [
    {
     "name": "stdout",
     "output_type": "stream",
     "text": [
      "Expected order: [4, 5, 2, 3, 1]\n",
      "Actual order: [4, 5, 2, 3, 1]\n",
      "Expected order: [20, 40, 60, 30, 10]\n",
      "Actual order: [20, 40, 60, 30, 10]\n"
     ]
    }
   ],
   "source": [
    "def postorder(tree: Tree, output:List=None) -> List:\n",
    "    if output is None:\n",
    "        output = []\n",
    "    if tree.left is not None:\n",
    "        postorder(tree.left, output)\n",
    "    if tree.right is not None:\n",
    "        postorder(tree.right, output)\n",
    "    output.append(tree.data)\n",
    "    \n",
    "    return output\n",
    "\n",
    "\n",
    "def test_postorder():\n",
    "    order = postorder(root)\n",
    "    print(\"Expected order: [4, 5, 2, 3, 1]\")\n",
    "    print(\"Actual order: {}\".format(order))\n",
    "\n",
    "    order2 = postorder(tree2)\n",
    "    print(\"Expected order: [20, 40, 60, 30, 10]\")\n",
    "    print(\"Actual order: {}\".format(order2))\n",
    "    \n",
    "test_postorder()   "
   ]
  },
  {
   "cell_type": "markdown",
   "metadata": {},
   "source": [
    "## Tree from Inorder and Preorder Traversals"
   ]
  },
  {
   "cell_type": "code",
   "execution_count": 10,
   "metadata": {},
   "outputs": [
    {
     "name": "stdout",
     "output_type": "stream",
     "text": [
      "Actual: [1, 2, 3, 4, 5], Expected: [1, 2, 3, 4, 5]\n"
     ]
    }
   ],
   "source": [
    "def tree_from_inorder_preorder(ino: List, pre: List) -> Tree:\n",
    "    root = Tree(pre[0])\n",
    "    # Assumes unique elements\n",
    "    k = None\n",
    "    for i, el in enumerate(ino):\n",
    "        if root.data == el:\n",
    "            k = i\n",
    "    if k is None:\n",
    "        raise ValueError('You gone screwed up.')\n",
    "    pre_l = pre[1:k+1]\n",
    "    pre_r = pre[k+1:]\n",
    "    ino_l = ino[:k]\n",
    "    ino_r = ino[k+1:]\n",
    "    if len(pre_l):\n",
    "        root.left = tree_from_inorder_preorder(ino_l, pre_l)\n",
    "    if len(pre_r):\n",
    "        root.right = tree_from_inorder_preorder(ino_r, pre_r)\n",
    "    return root\n",
    "\n",
    "\n",
    "def test_tree_from_inorder_preorder():\n",
    "    inorder_traversal = [4, 2, 5, 1, 3]\n",
    "    preorder_traversal = [1, 2, 4, 5, 3]\n",
    "    tree = tree_from_inorder_preorder(inorder_traversal, preorder_traversal)\n",
    "    actual_bfs = [tree.data, tree.left.data, tree.right.data,\n",
    "                  tree.left.left.data, tree.left.right.data]\n",
    "    expected_bfs = [1,2,3,4,5]\n",
    "    print('Actual: {}, Expected: {}'.format(actual_bfs, expected_bfs))\n",
    "\n",
    "test_tree_from_inorder_preorder()"
   ]
  },
  {
   "cell_type": "markdown",
   "metadata": {},
   "source": [
    "## Tree from Inorder and Postorder Traversals"
   ]
  },
  {
   "cell_type": "code",
   "execution_count": 12,
   "metadata": {},
   "outputs": [
    {
     "name": "stdout",
     "output_type": "stream",
     "text": [
      "Actual: [1, 2, 3, 4, 5], Expected: [1, 2, 3, 4, 5]\n"
     ]
    }
   ],
   "source": [
    "def tree_from_inorder_postorder(ino: List, post: List) -> Tree:\n",
    "    root = Tree(post[-1])\n",
    "    k = None\n",
    "    for i, el in enumerate(ino):\n",
    "        if root.data == el:\n",
    "            k = i\n",
    "    if k is None:\n",
    "        raise ValueError('Well, this is non-ideal')\n",
    "    ino_l = ino[:k]\n",
    "    ino_r = ino[k+1:]\n",
    "    post_l = post[:k]\n",
    "    post_r = post[k:-1]\n",
    "    if len(ino_l):\n",
    "        root.left = tree_from_inorder_postorder(ino_l, post_l)\n",
    "    if len(ino_r):\n",
    "        root.right = tree_from_inorder_postorder(ino_r, post_r)\n",
    "    return root\n",
    "\n",
    "def test_tree_from_inorder_postorder():\n",
    "    inorder_traversal = [4, 2, 5, 1, 3]\n",
    "    postorder_traversal = [4, 5, 2, 3, 1]\n",
    "    tree = tree_from_inorder_postorder(inorder_traversal, postorder_traversal)\n",
    "    actual_bfs = [tree.data, tree.left.data, tree.right.data,\n",
    "                  tree.left.left.data, tree.left.right.data]\n",
    "    expected_bfs = [1,2,3,4,5]\n",
    "    print('Actual: {}, Expected: {}'.format(actual_bfs, expected_bfs))\n",
    "\n",
    "test_tree_from_inorder_postorder()"
   ]
  },
  {
   "cell_type": "markdown",
   "metadata": {},
   "source": [
    "## Full Tree from Postorder and Preorder\n",
    "This is doable if you know that every node has either 0 or 2 children"
   ]
  },
  {
   "cell_type": "code",
   "execution_count": 20,
   "metadata": {},
   "outputs": [
    {
     "name": "stdout",
     "output_type": "stream",
     "text": [
      "Actual: [1, 2, 3, 4, 5, 6, 7], Expected: [1, 2, 3, 4, 5, 6, 7]\n"
     ]
    }
   ],
   "source": [
    "def full_tree_from_preorder_postorder(pre: List, post: List) -> Tree:\n",
    "    root = Tree(pre[0])\n",
    "    if len(pre) > 1:\n",
    "        left_data = pre[1]\n",
    "        k = None\n",
    "        for i, el in enumerate(post):\n",
    "            if left_data == el:\n",
    "                k = i\n",
    "        if k is None:\n",
    "            raise ValueError('FAIL FAIL FAIL')\n",
    "        pre_l = pre[1:k+2]\n",
    "        pre_r = pre[k+2:]\n",
    "        post_l = post[:k+1]\n",
    "        post_r = post[k+1:-1]\n",
    "        root.left = full_tree_from_preorder_postorder(pre_l, post_l)\n",
    "        root.right = full_tree_from_preorder_postorder(pre_r, post_r)\n",
    "    return root\n",
    "\n",
    "def test_full_tree_from_preorder_postorder():\n",
    "    preorder_traversal = [1, 2, 4, 5, 3, 6, 7]\n",
    "    postorder_traversal = [4, 5, 2, 6, 7, 3, 1]\n",
    "    expected_bfs = [1,2,3,4,5,6,7]\n",
    "    tree = full_tree_from_preorder_postorder(preorder_traversal,\n",
    "                                             postorder_traversal)\n",
    "    actual_bfs = [tree.data, tree.left.data, tree.right.data,\n",
    "                  tree.left.left.data, tree.left.right.data,\n",
    "                  tree.right.left.data, tree.right.right.data]\n",
    "    print('Actual: {}, Expected: {}'.format(actual_bfs, expected_bfs))\n",
    "\n",
    "test_full_tree_from_preorder_postorder()"
   ]
  },
  {
   "cell_type": "markdown",
   "metadata": {},
   "source": [
    "## Level Order Traversal"
   ]
  },
  {
   "cell_type": "code",
   "execution_count": 41,
   "metadata": {},
   "outputs": [
    {
     "name": "stdout",
     "output_type": "stream",
     "text": [
      "[1]\n",
      "[2, 3]\n",
      "[4, 5, 6]\n",
      "[7, 8]\n",
      "[9]\n",
      "Actual: [1, 2, 3, 4, 5, 6, 7, 8, 9], Expected: [1, 2, 3, 4, 5, 6, 7, 8, 9]\n"
     ]
    }
   ],
   "source": [
    "def level_order_traversal(root: Tree) -> List:\n",
    "    q = [root]  # queue\n",
    "    output = []\n",
    "    for node in q:\n",
    "        if node.left:\n",
    "            q.append(node.left)\n",
    "        if node.right:\n",
    "            q.append(node.right)\n",
    "        output.append(node.data)\n",
    "    return output\n",
    "\n",
    "def level_order_traversal_2(root: Tree) -> List:\n",
    "    h = get_height(root)\n",
    "    output = []\n",
    "    for i in range(h):\n",
    "        level_output = get_data_this_level(root, i)\n",
    "        print(level_output)\n",
    "        output.extend(level_output)\n",
    "    return output\n",
    "\n",
    "def get_data_this_level(root: Tree,\n",
    "                        l: int,\n",
    "                        output=None) -> List:\n",
    "    if output is None:\n",
    "        output = []\n",
    "    if l < 0:\n",
    "        raise ValueError(\"Level {} < 0\".format(l))\n",
    "    if root is not None:\n",
    "        if l == 0:\n",
    "            output.append(root.data)\n",
    "        else:\n",
    "            get_data_this_level(root.left, l-1, output)\n",
    "            get_data_this_level(root.right, l-1, output)\n",
    "    return output\n",
    "    \n",
    "    \n",
    "def get_height(root: Tree) -> int:\n",
    "    if root is None:\n",
    "        height = 0\n",
    "    elif (root.left is None) & (root.right is None):\n",
    "        height = 1\n",
    "    else:\n",
    "        height = 1 + max(get_height(root.left), get_height(root.right))\n",
    "    return height\n",
    "\n",
    "def test_level_order_traversal():\n",
    "    root = Tree(1)\n",
    "    root.add_left(2)\n",
    "    root.add_right(3)\n",
    "    root.left.add_left(4)\n",
    "    root.left.add_right(5)\n",
    "    root.right.add_right(6)\n",
    "    root.right.right.add_left(7)\n",
    "    root.right.right.add_right(8)\n",
    "    root.right.right.left.add_right(9)\n",
    "    output = level_order_traversal_2(root)\n",
    "    expected = [1,2,3,4,5,6,7,8, 9]\n",
    "    print(\"Actual: {}, Expected: {}\".format(output, expected))\n",
    "    \n",
    "test_level_order_traversal()"
   ]
  },
  {
   "cell_type": "markdown",
   "metadata": {},
   "source": [
    "## Tree Height"
   ]
  },
  {
   "cell_type": "code",
   "execution_count": 29,
   "metadata": {},
   "outputs": [
    {
     "name": "stdout",
     "output_type": "stream",
     "text": [
      "Actual: 5, Expected: 5\n"
     ]
    }
   ],
   "source": [
    "def get_height(root: Tree) -> int:\n",
    "    if root is None:\n",
    "        height = 0\n",
    "    elif (root.left is None) & (root.right is None):\n",
    "        height = 1\n",
    "    else:\n",
    "        height = 1 + max(get_height(root.left), get_height(root.right))\n",
    "    return height\n",
    "\n",
    "def test_height():\n",
    "    root = Tree(1)\n",
    "    root.add_left(2)\n",
    "    root.add_right(3)\n",
    "    root.left.add_left(4)\n",
    "    root.left.add_right(5)\n",
    "    root.right.add_right(6)\n",
    "    root.right.right.add_left(7)\n",
    "    root.right.right.add_right(8)\n",
    "    root.right.right.left.add_right(9)\n",
    "    output = get_height(root)\n",
    "    expected = 5\n",
    "    print(\"Actual: {}, Expected: {}\".format(output, expected))\n",
    "    \n",
    "test_height()"
   ]
  },
  {
   "cell_type": "markdown",
   "metadata": {},
   "source": [
    "## Left View"
   ]
  },
  {
   "cell_type": "code",
   "execution_count": 35,
   "metadata": {},
   "outputs": [
    {
     "name": "stdout",
     "output_type": "stream",
     "text": [
      "Actual: [4, 5, 3, 6], Expected: [4, 5, 3, 6]\n"
     ]
    }
   ],
   "source": [
    "def get_height(root: Tree) -> int:\n",
    "    if root is None:\n",
    "        height = 0\n",
    "    elif (root.left is None) & (root.right is None):\n",
    "        height = 1\n",
    "    else:\n",
    "        height = 1 + max(get_height(root.left), get_height(root.right))\n",
    "    return height\n",
    "\n",
    "def left_view(root, output=None, i=0):\n",
    "    if output is None:\n",
    "        h = get_height(root)\n",
    "        output = [None] * h\n",
    "    if output[i] is None:\n",
    "        output[i] = root.data\n",
    "    if root.left is not None:\n",
    "        left_view(root.left, output, i+1)\n",
    "    if root.right is not None:\n",
    "        left_view(root.right, output, i+1)\n",
    "    else:\n",
    "        pass\n",
    "    return output\n",
    "        \n",
    "def test_left_view():\n",
    "    tree = Tree(4)\n",
    "    tree.add_left(5)\n",
    "    tree.add_right(2)\n",
    "    tree.right.add_left(3)\n",
    "    tree.right.add_right(1)\n",
    "    tree.right.left.add_left(6)\n",
    "    tree.right.left.add_right(7)\n",
    "    output = left_view(tree)\n",
    "    expected = [4, 5, 3, 6]\n",
    "    print(\"Actual: {}, Expected: {}\".format(output, expected))\n",
    "\n",
    "test_left_view()"
   ]
  },
  {
   "cell_type": "markdown",
   "metadata": {},
   "source": [
    "## Right View"
   ]
  },
  {
   "cell_type": "code",
   "execution_count": 43,
   "metadata": {},
   "outputs": [
    {
     "name": "stdout",
     "output_type": "stream",
     "text": [
      "Actual: [4, 2, 1, 7], Expected: [4, 2, 1, 7]\n"
     ]
    }
   ],
   "source": [
    "def get_height(root: Tree) -> int:\n",
    "    if root is None:\n",
    "        height = 0\n",
    "    elif (root.left is None) & (root.right is None):\n",
    "        height = 1\n",
    "    else:\n",
    "        height = 1 + max(get_height(root.left), get_height(root.right))\n",
    "    return height\n",
    "\n",
    "\n",
    "def right_view(root: Tree, output=None, i=0) -> List:\n",
    "    if output is None:\n",
    "        output = [None] * get_height(root)\n",
    "    if root is not None:\n",
    "        if output[i] is None:\n",
    "            output[i] = root.data\n",
    "        right_view(root.right, output, i+1)\n",
    "        right_view(root.left, output, i+1)\n",
    "    return output\n",
    "\n",
    "def test_right_view():\n",
    "    tree = Tree(4)\n",
    "    tree.add_left(5)\n",
    "    tree.add_right(2)\n",
    "    tree.right.add_left(3)\n",
    "    tree.right.add_right(1)\n",
    "    tree.right.left.add_left(6)\n",
    "    tree.right.left.add_right(7)\n",
    "    output = right_view(tree)\n",
    "    expected = [4, 2, 1, 7]\n",
    "    print(\"Actual: {}, Expected: {}\".format(output, expected))\n",
    "    \n",
    "test_right_view()"
   ]
  },
  {
   "cell_type": "markdown",
   "metadata": {},
   "source": [
    "## Top View"
   ]
  },
  {
   "cell_type": "code",
   "execution_count": 46,
   "metadata": {},
   "outputs": [
    {
     "ename": "AttributeError",
     "evalue": "'list' object has no attribute 'prepend'",
     "output_type": "error",
     "traceback": [
      "\u001b[1;31m---------------------------------------------------------------------------\u001b[0m",
      "\u001b[1;31mAttributeError\u001b[0m                            Traceback (most recent call last)",
      "\u001b[1;32m<ipython-input-46-d8e5bf969f80>\u001b[0m in \u001b[0;36m<module>\u001b[1;34m()\u001b[0m\n\u001b[0;32m     30\u001b[0m     \u001b[0mprint\u001b[0m\u001b[1;33m(\u001b[0m\u001b[1;34m\"Actual: {}, Expected: {}\"\u001b[0m\u001b[1;33m.\u001b[0m\u001b[0mformat\u001b[0m\u001b[1;33m(\u001b[0m\u001b[0moutput\u001b[0m\u001b[1;33m,\u001b[0m \u001b[0mexpected\u001b[0m\u001b[1;33m)\u001b[0m\u001b[1;33m)\u001b[0m\u001b[1;33m\u001b[0m\u001b[0m\n\u001b[0;32m     31\u001b[0m \u001b[1;33m\u001b[0m\u001b[0m\n\u001b[1;32m---> 32\u001b[1;33m \u001b[0mtest_top_view\u001b[0m\u001b[1;33m(\u001b[0m\u001b[1;33m)\u001b[0m\u001b[1;33m\u001b[0m\u001b[0m\n\u001b[0m",
      "\u001b[1;32m<ipython-input-46-d8e5bf969f80>\u001b[0m in \u001b[0;36mtest_top_view\u001b[1;34m()\u001b[0m\n\u001b[0;32m     26\u001b[0m     \u001b[0mtree\u001b[0m\u001b[1;33m.\u001b[0m\u001b[0mright\u001b[0m\u001b[1;33m.\u001b[0m\u001b[0mleft\u001b[0m\u001b[1;33m.\u001b[0m\u001b[0madd_right\u001b[0m\u001b[1;33m(\u001b[0m\u001b[1;36m7\u001b[0m\u001b[1;33m)\u001b[0m\u001b[1;33m\u001b[0m\u001b[0m\n\u001b[0;32m     27\u001b[0m     \u001b[0mtree\u001b[0m\u001b[1;33m.\u001b[0m\u001b[0mright\u001b[0m\u001b[1;33m.\u001b[0m\u001b[0mleft\u001b[0m\u001b[1;33m.\u001b[0m\u001b[0mright\u001b[0m\u001b[1;33m.\u001b[0m\u001b[0madd_right\u001b[0m\u001b[1;33m(\u001b[0m\u001b[1;36m8\u001b[0m\u001b[1;33m)\u001b[0m\u001b[1;33m\u001b[0m\u001b[0m\n\u001b[1;32m---> 28\u001b[1;33m     \u001b[0moutput\u001b[0m \u001b[1;33m=\u001b[0m \u001b[0mtop_view\u001b[0m\u001b[1;33m(\u001b[0m\u001b[0mtree\u001b[0m\u001b[1;33m)\u001b[0m\u001b[1;33m\u001b[0m\u001b[0m\n\u001b[0m\u001b[0;32m     29\u001b[0m     \u001b[0mexpected\u001b[0m \u001b[1;33m=\u001b[0m \u001b[1;33m[\u001b[0m\u001b[1;36m5\u001b[0m\u001b[1;33m,\u001b[0m \u001b[1;36m4\u001b[0m\u001b[1;33m,\u001b[0m \u001b[1;36m2\u001b[0m\u001b[1;33m,\u001b[0m \u001b[1;36m1\u001b[0m\u001b[1;33m,\u001b[0m \u001b[1;36m8\u001b[0m\u001b[1;33m]\u001b[0m\u001b[1;33m\u001b[0m\u001b[0m\n\u001b[0;32m     30\u001b[0m     \u001b[0mprint\u001b[0m\u001b[1;33m(\u001b[0m\u001b[1;34m\"Actual: {}, Expected: {}\"\u001b[0m\u001b[1;33m.\u001b[0m\u001b[0mformat\u001b[0m\u001b[1;33m(\u001b[0m\u001b[0moutput\u001b[0m\u001b[1;33m,\u001b[0m \u001b[0mexpected\u001b[0m\u001b[1;33m)\u001b[0m\u001b[1;33m)\u001b[0m\u001b[1;33m\u001b[0m\u001b[0m\n",
      "\u001b[1;32m<ipython-input-46-d8e5bf969f80>\u001b[0m in \u001b[0;36mtop_view\u001b[1;34m(root, output, w, rightmost, leftmost)\u001b[0m\n\u001b[0;32m     12\u001b[0m         \u001b[0moutput\u001b[0m\u001b[1;33m.\u001b[0m\u001b[0mprepend\u001b[0m\u001b[1;33m(\u001b[0m\u001b[0mroot\u001b[0m\u001b[1;33m.\u001b[0m\u001b[0mdata\u001b[0m\u001b[1;33m)\u001b[0m\u001b[1;33m\u001b[0m\u001b[0m\n\u001b[0;32m     13\u001b[0m         \u001b[0mleftmost\u001b[0m \u001b[1;33m=\u001b[0m \u001b[0mw\u001b[0m\u001b[1;33m\u001b[0m\u001b[0m\n\u001b[1;32m---> 14\u001b[1;33m     \u001b[0mtop_view\u001b[0m\u001b[1;33m(\u001b[0m\u001b[0mroot\u001b[0m\u001b[1;33m.\u001b[0m\u001b[0mleft\u001b[0m\u001b[1;33m,\u001b[0m \u001b[0moutput\u001b[0m\u001b[1;33m,\u001b[0m \u001b[0mw\u001b[0m\u001b[1;33m-\u001b[0m\u001b[1;36m1\u001b[0m\u001b[1;33m,\u001b[0m \u001b[0mrightmost\u001b[0m\u001b[1;33m,\u001b[0m \u001b[0mleftmost\u001b[0m\u001b[1;33m)\u001b[0m\u001b[1;33m\u001b[0m\u001b[0m\n\u001b[0m\u001b[0;32m     15\u001b[0m     \u001b[0mtop_view\u001b[0m\u001b[1;33m(\u001b[0m\u001b[0mroot\u001b[0m\u001b[1;33m.\u001b[0m\u001b[0mright\u001b[0m\u001b[1;33m,\u001b[0m \u001b[0moutput\u001b[0m\u001b[1;33m,\u001b[0m \u001b[0mw\u001b[0m\u001b[1;33m+\u001b[0m\u001b[1;36m1\u001b[0m\u001b[1;33m,\u001b[0m \u001b[0mrightmost\u001b[0m\u001b[1;33m,\u001b[0m \u001b[0mleftmost\u001b[0m\u001b[1;33m)\u001b[0m\u001b[1;33m\u001b[0m\u001b[0m\n\u001b[0;32m     16\u001b[0m     \u001b[1;32mreturn\u001b[0m \u001b[0moutput\u001b[0m\u001b[1;33m\u001b[0m\u001b[0m\n",
      "\u001b[1;32m<ipython-input-46-d8e5bf969f80>\u001b[0m in \u001b[0;36mtop_view\u001b[1;34m(root, output, w, rightmost, leftmost)\u001b[0m\n\u001b[0;32m     10\u001b[0m         \u001b[0mrightmost\u001b[0m \u001b[1;33m=\u001b[0m \u001b[0mw\u001b[0m\u001b[1;33m\u001b[0m\u001b[0m\n\u001b[0;32m     11\u001b[0m     \u001b[1;32mif\u001b[0m \u001b[1;33m(\u001b[0m\u001b[0mw\u001b[0m \u001b[1;33m<\u001b[0m \u001b[0mleftmost\u001b[0m\u001b[1;33m)\u001b[0m\u001b[1;33m:\u001b[0m\u001b[1;33m\u001b[0m\u001b[0m\n\u001b[1;32m---> 12\u001b[1;33m         \u001b[0moutput\u001b[0m\u001b[1;33m.\u001b[0m\u001b[0mprepend\u001b[0m\u001b[1;33m(\u001b[0m\u001b[0mroot\u001b[0m\u001b[1;33m.\u001b[0m\u001b[0mdata\u001b[0m\u001b[1;33m)\u001b[0m\u001b[1;33m\u001b[0m\u001b[0m\n\u001b[0m\u001b[0;32m     13\u001b[0m         \u001b[0mleftmost\u001b[0m \u001b[1;33m=\u001b[0m \u001b[0mw\u001b[0m\u001b[1;33m\u001b[0m\u001b[0m\n\u001b[0;32m     14\u001b[0m     \u001b[0mtop_view\u001b[0m\u001b[1;33m(\u001b[0m\u001b[0mroot\u001b[0m\u001b[1;33m.\u001b[0m\u001b[0mleft\u001b[0m\u001b[1;33m,\u001b[0m \u001b[0moutput\u001b[0m\u001b[1;33m,\u001b[0m \u001b[0mw\u001b[0m\u001b[1;33m-\u001b[0m\u001b[1;36m1\u001b[0m\u001b[1;33m,\u001b[0m \u001b[0mrightmost\u001b[0m\u001b[1;33m,\u001b[0m \u001b[0mleftmost\u001b[0m\u001b[1;33m)\u001b[0m\u001b[1;33m\u001b[0m\u001b[0m\n",
      "\u001b[1;31mAttributeError\u001b[0m: 'list' object has no attribute 'prepend'"
     ]
    }
   ],
   "source": [
    "def top_view(root,\n",
    "             output=None,\n",
    "             w=0,\n",
    "             rightmost=-1,\n",
    "             leftmost=0) -> List:\n",
    "    if output is None:\n",
    "        output = []\n",
    "    if (w > rightmost):\n",
    "        output. = root.data + output\n",
    "        rightmost = w\n",
    "    if (w < leftmost):\n",
    "        output\n",
    "        leftmost = w\n",
    "    top_view(root.left, output, w-1, rightmost, leftmost)\n",
    "    top_view(root.right, output, w+1, rightmost, leftmost)\n",
    "    return output\n",
    "    \n",
    "    \n",
    "def test_top_view():\n",
    "    tree = Tree(4)\n",
    "    tree.add_left(5)\n",
    "    tree.add_right(2)\n",
    "    tree.right.add_left(3)\n",
    "    tree.right.add_right(1)\n",
    "    tree.right.left.add_left(6)\n",
    "    tree.right.left.add_right(7)\n",
    "    tree.right.left.right.add_right(8)\n",
    "    output = top_view(tree)\n",
    "    expected = [5, 4, 2, 1, 8]\n",
    "    print(\"Actual: {}, Expected: {}\".format(output, expected))\n",
    "    \n",
    "test_top_view()"
   ]
  },
  {
   "cell_type": "markdown",
   "metadata": {},
   "source": [
    "## Bottom View"
   ]
  },
  {
   "cell_type": "markdown",
   "metadata": {},
   "source": [
    "## Level Maximum"
   ]
  },
  {
   "cell_type": "markdown",
   "metadata": {},
   "source": [
    "## Level Minimum"
   ]
  },
  {
   "cell_type": "markdown",
   "metadata": {},
   "source": [
    "## Child Sum Property"
   ]
  },
  {
   "cell_type": "markdown",
   "metadata": {},
   "source": [
    "## Diameter"
   ]
  },
  {
   "cell_type": "markdown",
   "metadata": {},
   "source": [
    "## Convert to Doubly Linked List"
   ]
  }
 ],
 "metadata": {
  "kernelspec": {
   "display_name": "Python 3",
   "language": "python",
   "name": "python3"
  },
  "language_info": {
   "codemirror_mode": {
    "name": "ipython",
    "version": 3
   },
   "file_extension": ".py",
   "mimetype": "text/x-python",
   "name": "python",
   "nbconvert_exporter": "python",
   "pygments_lexer": "ipython3",
   "version": "3.6.4"
  }
 },
 "nbformat": 4,
 "nbformat_minor": 2
}
