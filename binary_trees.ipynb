{
 "cells": [
  {
   "cell_type": "markdown",
   "metadata": {},
   "source": [
    "# Various Binary Tree Things"
   ]
  },
  {
   "cell_type": "code",
   "execution_count": 9,
   "metadata": {},
   "outputs": [],
   "source": [
    "from typing import List"
   ]
  },
  {
   "cell_type": "markdown",
   "metadata": {},
   "source": [
    "## Define Binary Tree structure"
   ]
  },
  {
   "cell_type": "code",
   "execution_count": 17,
   "metadata": {},
   "outputs": [],
   "source": [
    "class Tree():\n",
    "    def __init__(self, data):\n",
    "        self.data = data\n",
    "        self.left = None\n",
    "        self.right = None\n",
    "        \n",
    "    def add_left(self, data):\n",
    "        self.left = Tree(data)\n",
    "        \n",
    "    def add_right(self, data):\n",
    "        self.right = Tree(data)\n",
    "        \n",
    "root = Tree(1)\n",
    "root.add_left(2)\n",
    "root.add_right(3)\n",
    "root.left.add_left(4)\n",
    "root.left.add_right(5)\n",
    "\n",
    "tree2 = Tree(10)\n",
    "tree2.add_left(20)\n",
    "tree2.add_right(30)\n",
    "tree2.right.add_left(40)\n",
    "tree2.right.add_right(60)"
   ]
  },
  {
   "cell_type": "markdown",
   "metadata": {},
   "source": [
    "## Inorder traversal\n",
    "In order traversal first calls itself on left node, then prints root, then calls itself on right node\n",
    "\n",
    "e.g., if root looks like this:\n",
    "1\n",
    "1, 2L; 1,3R\n",
    "2, 4L:, 2, 5R\n",
    "\n",
    "Traversal should look like:\n",
    "4, 2, 5, 1, 3"
   ]
  },
  {
   "cell_type": "code",
   "execution_count": 18,
   "metadata": {},
   "outputs": [
    {
     "name": "stdout",
     "output_type": "stream",
     "text": [
      "Expected order: [4, 2, 5, 1, 3]\n",
      "Actual order: [4, 2, 5, 1, 3]\n",
      "Expected order: [20, 10, 40, 30, 60]\n",
      "Actual order: [20, 10, 40, 30, 60]\n"
     ]
    }
   ],
   "source": [
    "def inorder(tree: Tree, output:List=None) -> List:\n",
    "    if output is None:\n",
    "        output = []\n",
    "    if tree.left is not None:\n",
    "        inorder(tree.left, output)\n",
    "    output.append(tree.data)\n",
    "    if tree.right is not None:\n",
    "        inorder(tree.right, output)\n",
    "    return output\n",
    "\n",
    "def test_inorder():\n",
    "    order = inorder(root)\n",
    "    print(\"Expected order: [4, 2, 5, 1, 3]\")\n",
    "    print(\"Actual order: {}\".format(order))\n",
    "\n",
    "    order2 = inorder(tree2)\n",
    "    print(\"Expected order: [20, 10, 40, 30, 60]\")\n",
    "    print(\"Actual order: {}\".format(order2))\n",
    "    \n",
    "test_inorder()"
   ]
  },
  {
   "cell_type": "markdown",
   "metadata": {},
   "source": [
    "## Preorder traversal\n",
    "\n",
    "Much like inorder, except visits the root first"
   ]
  },
  {
   "cell_type": "code",
   "execution_count": 21,
   "metadata": {},
   "outputs": [
    {
     "name": "stdout",
     "output_type": "stream",
     "text": [
      "Expected order: [1, 2, 4, 5, 3]\n",
      "Actual order: [1, 2, 4, 5, 3]\n",
      "Expected order: [10, 20, 30, 40, 60]\n",
      "Actual order: [10, 20, 30, 40, 60]\n"
     ]
    }
   ],
   "source": [
    "def preorder(tree: Tree, output:List=None) -> List:\n",
    "    if output is None:\n",
    "        output = []\n",
    "    output.append(tree.data)\n",
    "    if tree.left is not None:\n",
    "        preorder(tree.left, output)\n",
    "    if tree.right is not None:\n",
    "        preorder(tree.right, output)\n",
    "    return output\n",
    "\n",
    "def test_preorder():\n",
    "    order = preorder(root)\n",
    "    print(\"Expected order: [1, 2, 4, 5, 3]\")\n",
    "    print(\"Actual order: {}\".format(order))\n",
    "\n",
    "    order2 = preorder(tree2)\n",
    "    print(\"Expected order: [10, 20, 30, 40, 60]\")\n",
    "    print(\"Actual order: {}\".format(order2))\n",
    "    \n",
    "test_preorder()    "
   ]
  },
  {
   "cell_type": "markdown",
   "metadata": {},
   "source": [
    "## Postorder traversal\n",
    "\n",
    "Like the first two, but visits the root last"
   ]
  },
  {
   "cell_type": "code",
   "execution_count": 22,
   "metadata": {},
   "outputs": [
    {
     "name": "stdout",
     "output_type": "stream",
     "text": [
      "Expected order: [4, 5, 2, 3, 1]\n",
      "Actual order: [4, 5, 2, 3, 1]\n",
      "Expected order: [20, 40, 60, 30, 10]\n",
      "Actual order: [20, 40, 60, 30, 10]\n"
     ]
    }
   ],
   "source": [
    "def postorder(tree: Tree, output:List=None) -> List:\n",
    "    if output is None:\n",
    "        output = []\n",
    "    if tree.left is not None:\n",
    "        postorder(tree.left, output)\n",
    "    if tree.right is not None:\n",
    "        postorder(tree.right, output)\n",
    "    output.append(tree.data)\n",
    "    \n",
    "    return output\n",
    "\n",
    "\n",
    "def test_postorder():\n",
    "    order = postorder(root)\n",
    "    print(\"Expected order: [4, 5, 2, 3, 1]\")\n",
    "    print(\"Actual order: {}\".format(order))\n",
    "\n",
    "    order2 = postorder(tree2)\n",
    "    print(\"Expected order: [20, 40, 60, 30, 10]\")\n",
    "    print(\"Actual order: {}\".format(order2))\n",
    "    \n",
    "test_postorder()   "
   ]
  }
 ],
 "metadata": {
  "kernelspec": {
   "display_name": "Python 3",
   "language": "python",
   "name": "python3"
  },
  "language_info": {
   "codemirror_mode": {
    "name": "ipython",
    "version": 3
   },
   "file_extension": ".py",
   "mimetype": "text/x-python",
   "name": "python",
   "nbconvert_exporter": "python",
   "pygments_lexer": "ipython3",
   "version": "3.6.4"
  }
 },
 "nbformat": 4,
 "nbformat_minor": 2
}
